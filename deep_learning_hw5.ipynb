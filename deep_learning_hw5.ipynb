{
  "nbformat": 4,
  "nbformat_minor": 0,
  "metadata": {
    "colab": {
      "provenance": [],
      "authorship_tag": "ABX9TyN8RDNMT+WzmQPCEAxvpUD3",
      "include_colab_link": true
    },
    "kernelspec": {
      "name": "python3",
      "display_name": "Python 3"
    },
    "language_info": {
      "name": "python"
    }
  },
  "cells": [
    {
      "cell_type": "markdown",
      "metadata": {
        "id": "view-in-github",
        "colab_type": "text"
      },
      "source": [
        "<a href=\"https://colab.research.google.com/github/vir-dom/deep_learning_hw5/blob/main/deep_learning_hw5.ipynb\" target=\"_parent\"><img src=\"https://colab.research.google.com/assets/colab-badge.svg\" alt=\"Open In Colab\"/></a>"
      ]
    },
    {
      "cell_type": "markdown",
      "source": [
        "# Deep Learning homework 5"
      ],
      "metadata": {
        "id": "kzxGrZ-RucBY"
      }
    },
    {
      "cell_type": "markdown",
      "source": [
        "This is the fifth homework for the \"Deep Learning a gyakorlatban...\" course. My name is Virsinger Dominika (RSABSD). In this notebook I am trying to explain everything regarding my codes, sometimes it is going to be in these Text boxes, sometimes right next to the code as comments."
      ],
      "metadata": {
        "id": "Ms1fw-XPuYIR"
      }
    },
    {
      "cell_type": "markdown",
      "source": [
        "For this homework I used the codes that we used during the practice lesson."
      ],
      "metadata": {
        "id": "OoSyakNLwDuz"
      }
    },
    {
      "cell_type": "code",
      "execution_count": 1,
      "metadata": {
        "id": "7HlsnaseuP_l"
      },
      "outputs": [],
      "source": [
        "import warnings\n",
        "warnings.filterwarnings(\"ignore\")\n",
        "import keras\n",
        "from keras.models import Sequential\n",
        "from keras.layers import InputLayer, Dense, Dropout, Activation\n",
        "from tensorflow.keras import Input\n",
        "from keras.callbacks import EarlyStopping\n",
        "import numpy as np\n",
        "from PIL import Image\n",
        "import pickle\n",
        "path = 'cifar-10-batches-py/data_batch_'"
      ]
    },
    {
      "cell_type": "markdown",
      "source": [
        "**Loading the data**"
      ],
      "metadata": {
        "id": "gwOnKqsUy5nH"
      }
    },
    {
      "cell_type": "markdown",
      "source": [
        "This code will appear in the data() function of the upcoming hyperparameter optimization. These lines are to test that the code actually functions."
      ],
      "metadata": {
        "id": "82hcV_Zky_Wk"
      }
    },
    {
      "cell_type": "markdown",
      "source": [
        "The dataset is all CIFAR-10 images found on https://www.cs.toronto.edu/~kriz/cifar.html. I downloaded CIFAR-10 python version found on the linked website, extracted the .tar.gz file, and gotten a folder called cifar-10-batches-py. The code below should work if it was obtained the same way."
      ],
      "metadata": {
        "id": "4KjxP7lwzB6K"
      }
    },
    {
      "cell_type": "markdown",
      "source": [
        "First I'll load all 5 given batches and the test batch, split them into pictures and labels, and append the 5 train batches into 1:"
      ],
      "metadata": {
        "id": "vZejJnIYzODq"
      }
    },
    {
      "cell_type": "code",
      "source": [
        "batches = []\n",
        "for i in range(5):\n",
        "    with open(path + str(i+1), 'rb') as f:\n",
        "        batches.append(pickle.load(f, encoding='bytes'))"
      ],
      "metadata": {
        "id": "hAcdi5BtwVnC"
      },
      "execution_count": 2,
      "outputs": []
    },
    {
      "cell_type": "code",
      "source": [
        "pictures = batches[0][b'data']\n",
        "labels = batches[0][b'labels']\n",
        "for b in batches[1:]:\n",
        "    pictures = np.append(pictures,b[b'data'], axis=0)\n",
        "    labels = np.append(labels,b[b'labels'], axis=0)"
      ],
      "metadata": {
        "id": "dz1rxVJ-zaQZ"
      },
      "execution_count": 3,
      "outputs": []
    },
    {
      "cell_type": "code",
      "source": [
        "with open('cifar-10-batches-py/test_batch', 'rb') as f:\n",
        "    test_batch = pickle.load(f, encoding='bytes')\n",
        "test_pictures = test_batch[b'data']\n",
        "test_labels = test_batch[b'labels']"
      ],
      "metadata": {
        "id": "OPe1hpFj46s4"
      },
      "execution_count": 4,
      "outputs": []
    },
    {
      "cell_type": "markdown",
      "source": [
        "There are 50000 train images and 10000 test images. Each one contains 32x32x3=3072 data points (colored RGB pixels):"
      ],
      "metadata": {
        "id": "B_p5GvrJ5ADn"
      }
    },
    {
      "cell_type": "code",
      "source": [
        "pictures.shape, test_pictures.shape"
      ],
      "metadata": {
        "colab": {
          "base_uri": "https://localhost:8080/"
        },
        "id": "b6Radge-49tZ",
        "outputId": "74df6869-0c4a-4db0-897d-0f82c2b123b3"
      },
      "execution_count": 5,
      "outputs": [
        {
          "output_type": "execute_result",
          "data": {
            "text/plain": [
              "((50000, 3072), (10000, 3072))"
            ]
          },
          "metadata": {},
          "execution_count": 5
        }
      ]
    },
    {
      "cell_type": "markdown",
      "source": [
        "Similarly, there are 50000 train labels and 10000 test labels:"
      ],
      "metadata": {
        "id": "hG35JMYI5P1K"
      }
    },
    {
      "cell_type": "code",
      "source": [
        "len(labels), len(test_labels)"
      ],
      "metadata": {
        "colab": {
          "base_uri": "https://localhost:8080/"
        },
        "id": "D4621wwl5Mp_",
        "outputId": "a91df908-8d65-47bd-b9b5-1302bbfebe31"
      },
      "execution_count": 6,
      "outputs": [
        {
          "output_type": "execute_result",
          "data": {
            "text/plain": [
              "(50000, 10000)"
            ]
          },
          "metadata": {},
          "execution_count": 6
        }
      ]
    },
    {
      "cell_type": "markdown",
      "source": [
        "**Showing the data**"
      ],
      "metadata": {
        "id": "l--NW2_N5VCo"
      }
    },
    {
      "cell_type": "markdown",
      "source": [
        "Here I'm reshaping and transposing the data to show some examples of the images and labels. There are 10 possible labels, and I'm printing out the first 10 images (scaled up to 100x100 from 32x32)."
      ],
      "metadata": {
        "id": "ibLGNEYr5WT0"
      }
    },
    {
      "cell_type": "code",
      "source": [
        "pictures_to_show = pictures.reshape(50000,3,32,32)\n",
        "test_pictures_to_show = test_pictures.reshape(10000,3,32,32)"
      ],
      "metadata": {
        "id": "IPhGLRiS5TKJ"
      },
      "execution_count": 7,
      "outputs": []
    },
    {
      "cell_type": "code",
      "source": [
        "pictures_to_show.shape, test_pictures_to_show.shape"
      ],
      "metadata": {
        "colab": {
          "base_uri": "https://localhost:8080/"
        },
        "id": "hEJy42ea5d4z",
        "outputId": "c2476270-8072-4ed0-93cc-021e5d35f958"
      },
      "execution_count": 8,
      "outputs": [
        {
          "output_type": "execute_result",
          "data": {
            "text/plain": [
              "((50000, 3, 32, 32), (10000, 3, 32, 32))"
            ]
          },
          "metadata": {},
          "execution_count": 8
        }
      ]
    },
    {
      "cell_type": "code",
      "source": [
        "label_dict = {0: 'airplane', 1: 'automobile', 2: 'bird', 3: 'cat',\n",
        "    4: 'deer', 5: 'dog', 6: 'frog', 7: 'horse', 8: 'ship', 9: 'truck'}"
      ],
      "metadata": {
        "id": "wKHfK5pU5faQ"
      },
      "execution_count": 9,
      "outputs": []
    },
    {
      "cell_type": "code",
      "source": [
        "print(\"Example images (scaled up to 100x100):\")\n",
        "print(\"---------------\")\n",
        "for i in range(10):\n",
        "    print(label_dict[batches[0][b'labels'][i]])\n",
        "    image = Image.fromarray(np.transpose(pictures_to_show[i], axes=(1,2,0)), 'RGB').resize((100,100))\n",
        "    display(image)\n",
        "    print(\"\")"
      ],
      "metadata": {
        "colab": {
          "base_uri": "https://localhost:8080/",
          "height": 1000
        },
        "id": "CNg5lt9U5iiS",
        "outputId": "d71822b3-314c-4176-e894-ae913c96f6d2"
      },
      "execution_count": 10,
      "outputs": [
        {
          "output_type": "stream",
          "name": "stdout",
          "text": [
            "Example images (scaled up to 100x100):\n",
            "---------------\n",
            "frog\n"
          ]
        },
        {
          "output_type": "display_data",
          "data": {
            "text/plain": [
              "<PIL.Image.Image image mode=RGB size=100x100 at 0x7F77F9CB67C0>"
            ],
            "image/png": "[encoded data removed]"
          },
          "metadata": {}
        },
        {
          "output_type": "stream",
          "name": "stdout",
          "text": [
            "\n",
            "truck\n"
          ]
        },
        {
          "output_type": "display_data",
          "data": {
            "text/plain": [
              "<PIL.Image.Image image mode=RGB size=100x100 at 0x7F77F9C97DF0>"
            ],
            "image/png": "[encoded data removed]"
          },
          "metadata": {}
        },
        {
          "output_type": "stream",
          "name": "stdout",
          "text": [
            "\n",
            "truck\n"
          ]
        },
        {
          "output_type": "display_data",
          "data": {
            "text/plain": [
              "<PIL.Image.Image image mode=RGB size=100x100 at 0x7F77F9CB6760>"
            ],
            "image/png": "[encoded data removed]"
          },
          "metadata": {}
        },
        {
          "output_type": "stream",
          "name": "stdout",
          "text": [
            "\n",
            "deer\n"
          ]
        },
        {
          "output_type": "display_data",
          "data": {
            "text/plain": [
              "<PIL.Image.Image image mode=RGB size=100x100 at 0x7F77F9C97EE0>"
            ],
            "image/png": "[encoded data removed]"
          },
          "metadata": {}
        },
        {
          "output_type": "stream",
          "name": "stdout",
          "text": [
            "\n",
            "automobile\n"
          ]
        },
        {
          "output_type": "display_data",
          "data": {
            "text/plain": [
              "<PIL.Image.Image image mode=RGB size=100x100 at 0x7F77F9C97E20>"
            ],
            "image/png": "[encoded data removed]"
          },
          "metadata": {}
        },
        {
          "output_type": "stream",
          "name": "stdout",
          "text": [
            "\n",
            "automobile\n"
          ]
        },
        {
          "output_type": "display_data",
          "data": {
            "text/plain": [
              "<PIL.Image.Image image mode=RGB size=100x100 at 0x7F77F9CB6850>"
            ],
            "image/png": "[encoded data removed]"
          },
          "metadata": {}
        },
        {
          "output_type": "stream",
          "name": "stdout",
          "text": [
            "\n",
            "bird\n"
          ]
        },
        {
          "output_type": "display_data",
          "data": {
            "text/plain": [
              "<PIL.Image.Image image mode=RGB size=100x100 at 0x7F77F9C97C40>"
            ],
            "image/png": "[encoded data removed]"
          },
          "metadata": {}
        },
        {
          "output_type": "stream",
          "name": "stdout",
          "text": [
            "\n",
            "horse\n"
          ]
        },
        {
          "output_type": "display_data",
          "data": {
            "text/plain": [
              "<PIL.Image.Image image mode=RGB size=100x100 at 0x7F77F9C97F70>"
            ],
            "image/png": "[encoded data removed]"
          },
          "metadata": {}
        },
        {
          "output_type": "stream",
          "name": "stdout",
          "text": [
            "\n",
            "ship\n"
          ]
        },
        {
          "output_type": "display_data",
          "data": {
            "text/plain": [
              "<PIL.Image.Image image mode=RGB size=100x100 at 0x7F77F9C97C40>"
            ],
            "image/png": "[encoded data removed]"
          },
          "metadata": {}
        },
        {
          "output_type": "stream",
          "name": "stdout",
          "text": [
            "\n",
            "cat\n"
          ]
        },
        {
          "output_type": "display_data",
          "data": {
            "text/plain": [
              "<PIL.Image.Image image mode=RGB size=100x100 at 0x7F77F9C97F70>"
            ],
            "image/png": "[encoded data removed]"
          },
          "metadata": {}
        },
        {
          "output_type": "stream",
          "name": "stdout",
          "text": [
            "\n"
          ]
        }
      ]
    },
    {
      "cell_type": "markdown",
      "source": [
        "**Neural Network**"
      ],
      "metadata": {
        "id": "BOKAC0u75qi9"
      }
    },
    {
      "cell_type": "markdown",
      "source": [
        "I'm transforming the data by turning the output into a categorical variable and normalizing the input data to be in [0,1] (by dividing it by 255).\n",
        "<p>Then I'm creating a simple Sequential model with 2 Dense layers simply to show how hyperparameter optimization works. Obviously, for image recognition, a Convolutional Neural Network would be wiser to use, however, it would run much slower, and accuracy isn't key here - only to learn about hyperopt."
      ],
      "metadata": {
        "id": "L9Ba0irL5tNQ"
      }
    },
    {
      "cell_type": "code",
      "source": [
        "batch_size = 32\n",
        "num_classes = 10\n",
        "epochs = 20"
      ],
      "metadata": {
        "id": "6-pHpBce5nEK"
      },
      "execution_count": 11,
      "outputs": []
    },
    {
      "cell_type": "code",
      "source": [
        "labels = keras.utils.to_categorical(labels, num_classes)\n",
        "test_labels = keras.utils.to_categorical(test_labels, num_classes)"
      ],
      "metadata": {
        "id": "1F-nFgcQ6UUH"
      },
      "execution_count": 12,
      "outputs": []
    },
    {
      "cell_type": "code",
      "source": [
        "pictures = pictures.astype('float32')\n",
        "test_pictures = test_pictures.astype('float32')\n",
        "pictures /= 255\n",
        "test_pictures /= 255"
      ],
      "metadata": {
        "id": "blrUHkYg6U2A"
      },
      "execution_count": 13,
      "outputs": []
    },
    {
      "cell_type": "code",
      "source": [
        "model = Sequential()\n",
        "model.add(Dense(256, input_dim=3072))\n",
        "model.add(Dropout(0.25))\n",
        "model.add(Dense(64))\n",
        "model.add(Dense(10, activation='softmax'))"
      ],
      "metadata": {
        "id": "xRQM3kDc6Wcp"
      },
      "execution_count": 14,
      "outputs": []
    },
    {
      "cell_type": "code",
      "source": [
        "model.compile(optimizer='adam',loss='categorical_crossentropy',\n",
        "              metrics=['accuracy'])"
      ],
      "metadata": {
        "id": "6IdknIQ27bR8"
      },
      "execution_count": 15,
      "outputs": []
    },
    {
      "cell_type": "code",
      "source": [
        "callbacks = [EarlyStopping(monitor='val_accuracy', patience=3, verbose=0)]"
      ],
      "metadata": {
        "id": "QGEU9dwV7vRz"
      },
      "execution_count": 16,
      "outputs": []
    },
    {
      "cell_type": "code",
      "source": [
        "result = model.fit(pictures, labels,\n",
        "              batch_size=batch_size,\n",
        "              epochs=epochs,\n",
        "              validation_data=(test_pictures, test_labels),\n",
        "              callbacks=callbacks,\n",
        "              shuffle=True)"
      ],
      "metadata": {
        "colab": {
          "base_uri": "https://localhost:8080/"
        },
        "id": "CALfY0Xb7w6G",
        "outputId": "8db8e010-89aa-4ad7-8999-d5ffaf56762d"
      },
      "execution_count": 17,
      "outputs": [
        {
          "output_type": "stream",
          "name": "stdout",
          "text": [
            "Epoch 1/20\n",
            "1563/1563 [==============================] - 15s 9ms/step - loss: 2.1617 - accuracy: 0.2972 - val_loss: 1.9679 - val_accuracy: 0.3030\n",
            "Epoch 2/20\n",
            "1563/1563 [==============================] - 14s 9ms/step - loss: 1.9154 - accuracy: 0.3238 - val_loss: 1.9456 - val_accuracy: 0.3138\n",
            "Epoch 3/20\n",
            "1563/1563 [==============================] - 14s 9ms/step - loss: 1.8809 - accuracy: 0.3337 - val_loss: 1.8554 - val_accuracy: 0.3538\n",
            "Epoch 4/20\n",
            "1563/1563 [==============================] - 14s 9ms/step - loss: 1.8466 - accuracy: 0.3485 - val_loss: 1.7989 - val_accuracy: 0.3603\n",
            "Epoch 5/20\n",
            "1563/1563 [==============================] - 14s 9ms/step - loss: 1.8325 - accuracy: 0.3499 - val_loss: 1.7808 - val_accuracy: 0.3728\n",
            "Epoch 6/20\n",
            "1563/1563 [==============================] - 13s 9ms/step - loss: 1.8273 - accuracy: 0.3547 - val_loss: 1.7831 - val_accuracy: 0.3737\n",
            "Epoch 7/20\n",
            "1563/1563 [==============================] - 13s 8ms/step - loss: 1.8165 - accuracy: 0.3604 - val_loss: 1.9457 - val_accuracy: 0.3128\n",
            "Epoch 8/20\n",
            "1563/1563 [==============================] - 13s 8ms/step - loss: 1.8072 - accuracy: 0.3675 - val_loss: 1.8004 - val_accuracy: 0.3644\n",
            "Epoch 9/20\n",
            "1563/1563 [==============================] - 13s 8ms/step - loss: 1.7995 - accuracy: 0.3645 - val_loss: 1.7700 - val_accuracy: 0.3833\n",
            "Epoch 10/20\n",
            "1563/1563 [==============================] - 14s 9ms/step - loss: 1.7896 - accuracy: 0.3727 - val_loss: 1.7869 - val_accuracy: 0.3657\n",
            "Epoch 11/20\n",
            "1563/1563 [==============================] - 12s 8ms/step - loss: 1.7840 - accuracy: 0.3754 - val_loss: 1.7535 - val_accuracy: 0.3845\n",
            "Epoch 12/20\n",
            "1563/1563 [==============================] - 12s 8ms/step - loss: 1.7742 - accuracy: 0.3794 - val_loss: 1.8142 - val_accuracy: 0.3660\n",
            "Epoch 13/20\n",
            "1563/1563 [==============================] - 13s 8ms/step - loss: 1.7713 - accuracy: 0.3847 - val_loss: 1.7606 - val_accuracy: 0.3891\n",
            "Epoch 14/20\n",
            "1563/1563 [==============================] - 12s 8ms/step - loss: 1.7677 - accuracy: 0.3819 - val_loss: 1.8028 - val_accuracy: 0.3685\n",
            "Epoch 15/20\n",
            "1563/1563 [==============================] - 12s 8ms/step - loss: 1.7601 - accuracy: 0.3903 - val_loss: 1.7413 - val_accuracy: 0.3874\n",
            "Epoch 16/20\n",
            "1563/1563 [==============================] - 12s 8ms/step - loss: 1.7605 - accuracy: 0.3885 - val_loss: 1.7867 - val_accuracy: 0.3777\n"
          ]
        }
      ]
    },
    {
      "cell_type": "markdown",
      "source": [
        "The best accuracy without hyperopt is about 38.91%, which is far from great, but also much better than random (which would be 10%)."
      ],
      "metadata": {
        "id": "XNUsC5Te8aqg"
      }
    },
    {
      "cell_type": "code",
      "source": [
        "best_val_acc = np.amax(result.history['val_accuracy']) \n",
        "print('best val_acc:', best_val_acc)"
      ],
      "metadata": {
        "colab": {
          "base_uri": "https://localhost:8080/"
        },
        "id": "w0M5Ffhx7zPJ",
        "outputId": "43afd245-2036-46f5-c58a-680e0f1600cb"
      },
      "execution_count": 18,
      "outputs": [
        {
          "output_type": "stream",
          "name": "stdout",
          "text": [
            "best val_acc: 0.38909998536109924\n"
          ]
        }
      ]
    },
    {
      "cell_type": "markdown",
      "source": [
        "**Hyperopt functions**"
      ],
      "metadata": {
        "id": "uiAw9vpq8r3b"
      }
    },
    {
      "cell_type": "markdown",
      "source": [
        "The following data() and create_model() functions are used by the hyperopt system and contain all the previously shown code."
      ],
      "metadata": {
        "id": "Ybtc5x0m8vcE"
      }
    },
    {
      "cell_type": "code",
      "source": [
        "def data():\n",
        "    \n",
        "    import keras\n",
        "    from keras.models import Sequential\n",
        "    from keras.layers import InputLayer, Dense, Dropout, Activation\n",
        "    from tensorflow.keras import Input\n",
        "    from keras.callbacks import EarlyStopping\n",
        "    import numpy as np\n",
        "    from PIL import Image\n",
        "    import pickle\n",
        "    from keras.layers import Layer\n",
        "    from keras import backend as K\n",
        "\n",
        "    path = 'cifar-10-batches-py/data_batch_'\n",
        "    batches = []\n",
        "    for i in range(5):\n",
        "        with open(path + str(i+1), 'rb') as f:\n",
        "            batches.append(pickle.load(f, encoding='bytes'))\n",
        "    \n",
        "    pictures = batches[0][b'data']\n",
        "    labels = batches[0][b'labels']\n",
        "    for b in batches[1:]:\n",
        "        pictures = np.append(pictures,b[b'data'], axis=0)\n",
        "        labels = np.append(labels,b[b'labels'], axis=0)\n",
        "    \n",
        "    with open('cifar-10-batches-py/test_batch', 'rb') as f:\n",
        "        test_batch = pickle.load(f, encoding='bytes')\n",
        "    test_pictures = test_batch[b'data']\n",
        "    test_labels = test_batch[b'labels']\n",
        "    \n",
        "    batch_size = 32\n",
        "    num_classes = 10\n",
        "    epochs = 100\n",
        "    \n",
        "    labels = keras.utils.to_categorical(labels, num_classes)\n",
        "    test_labels = keras.utils.to_categorical(test_labels, num_classes)\n",
        "    \n",
        "    pictures = pictures.astype('float32')\n",
        "    test_pictures = test_pictures.astype('float32')\n",
        "    pictures /= 255\n",
        "    test_pictures /= 255\n",
        "    \n",
        "    print(pictures.shape, len(labels), test_pictures.shape, len(test_labels))\n",
        "    \n",
        "    return pictures, labels, test_pictures, test_labels"
      ],
      "metadata": {
        "id": "sZX45WWy8pYS"
      },
      "execution_count": 50,
      "outputs": []
    },
    {
      "cell_type": "code",
      "source": [
        "def create_model(pictures, labels, test_pictures, test_labels):\n",
        "    \n",
        "    from keras.layers import Layer\n",
        "    from keras import backend as K\n",
        "    \n",
        "    # Definition of Swish\n",
        "    class Swish(Layer):\n",
        "        def __init__(self, beta, **kwargs):\n",
        "            super(Swish, self).__init__(**kwargs)\n",
        "            self.beta = K.cast_to_floatx(beta)\n",
        "\n",
        "        def call(self, inputs):\n",
        "            return K.sigmoid(self.beta * inputs) * inputs\n",
        "\n",
        "        def get_config(self):\n",
        "            config = {'beta': float(self.beta)}\n",
        "            base_config = super(Swish, self).get_config()\n",
        "            return dict(list(base_config.items()) + list(config.items()))\n",
        "\n",
        "        def compute_output_shape(self, input_shape):\n",
        "            return input_shape\n",
        "    \n",
        "    n_layer1 = {{choice([128, 256, 512])}}\n",
        "    dropout = {{uniform(0, 0.5)}}\n",
        "    n_layer2 = {{choice([128, 256, 512])}}\n",
        "    \n",
        "    act = {{choice(['relu', 'leakyrelu', 'swish'])}}\n",
        "    optim = {{choice(['rmsprop', 'adam', 'sgd'])}}\n",
        "    n_batch = {{choice([64, 128, 256])}}\n",
        "    \n",
        "    print('Model parameters: ', n_layer1, dropout, n_layer2, act, optim, n_batch)\n",
        "    \n",
        "    # activation: string -> variable\n",
        "    if act == 'relu':\n",
        "        activation = keras.layers.ReLU()\n",
        "    elif act == 'leakyrelu':\n",
        "        activation = keras.layers.LeakyReLU()\n",
        "    elif act == 'swish':\n",
        "        activation = Swish(beta=0.3)\n",
        "    \n",
        "    model = Sequential()\n",
        "    model.add(Dense(n_layer1, input_dim=3072))\n",
        "    model.add(Dropout(dropout))\n",
        "    model.add(Dense(n_layer2))\n",
        "    model.add(Dense(10, activation='softmax'))\n",
        "    \n",
        "    model.compile(optimizer=optim,\n",
        "                  loss='categorical_crossentropy',\n",
        "                  metrics=['accuracy'])\n",
        "\n",
        "    callbacks = [EarlyStopping(monitor='val_accuracy', patience=3, verbose=0)]\n",
        "    \n",
        "    result = model.fit(pictures, labels,\n",
        "              batch_size=n_batch,\n",
        "              epochs=100,\n",
        "              verbose=2,\n",
        "              validation_data=(test_pictures, test_labels),\n",
        "              callbacks=callbacks,\n",
        "              shuffle=True)\n",
        "\n",
        "    \n",
        "    # Save the epoch that gives the highest accuracy\n",
        "    best_val_acc = np.amax(result.history['val_accuracy']) \n",
        "    print('best val_acc:', best_val_acc)\n",
        "    \n",
        "    # logs: network structure and results\n",
        "    with open('hw5_hyperas-cifar10-log.csv', 'a') as csv_file:\n",
        "        csv_file.write(str(n_layer1) + ';')\n",
        "        csv_file.write(str(dropout) + ';')\n",
        "        csv_file.write(str(n_layer2) + ';')\n",
        "        csv_file.write(str(act) + ';')\n",
        "        csv_file.write(str(optim) + ';')\n",
        "        csv_file.write(str(n_batch) + ';')\n",
        "        csv_file.write(str(best_val_acc) + '\\n')\n",
        "    \n",
        "    return {'loss': -best_val_acc, 'status': STATUS_OK, 'model': model}"
      ],
      "metadata": {
        "id": "-VfD1KVr8x6A"
      },
      "execution_count": 51,
      "outputs": []
    },
    {
      "cell_type": "markdown",
      "source": [
        "An output file is created to retain the parameters of all outputs from the hyperparameter optimization:"
      ],
      "metadata": {
        "id": "hr6eP3xf854b"
      }
    },
    {
      "cell_type": "code",
      "source": [
        "with open('hw5_hyperas-cifar10-log.csv', 'w') as csv_file:\n",
        "    csv_file.write('n_layer1' + ';')\n",
        "    csv_file.write('dropout' + ';')\n",
        "    csv_file.write('n_layer2' + ';')\n",
        "    csv_file.write('act' + ';')\n",
        "    csv_file.write('optim' + ';')\n",
        "    csv_file.write('n_batch' + ';')\n",
        "    csv_file.write('best_val_acc' + '\\n')"
      ],
      "metadata": {
        "id": "UuBZyyTo81Dw"
      },
      "execution_count": 52,
      "outputs": []
    },
    {
      "cell_type": "markdown",
      "source": [
        "**Running Hyperopt**"
      ],
      "metadata": {
        "id": "vB2-Zrd89RTJ"
      }
    },
    {
      "cell_type": "markdown",
      "source": [
        "Using the above functions I'm running optimizations for:\n",
        "\n",
        "<li>Number or nodes in the first and second layers\n",
        "<li>Dropout percentage between the 2 layers\n",
        "<li>Activation functions\n",
        "<li>The optimizer"
      ],
      "metadata": {
        "id": "TEprFiE09T_r"
      }
    },
    {
      "cell_type": "code",
      "source": [
        "import hyperas\n",
        "from hyperopt import Trials, STATUS_OK, tpe\n",
        "from hyperas import optim\n",
        "from hyperas.distributions import choice, uniform"
      ],
      "metadata": {
        "id": "fS7PPEVd9Y0Y"
      },
      "execution_count": 53,
      "outputs": []
    },
    {
      "cell_type": "code",
      "source": [
        "best_run, best_model = optim.minimize(model=create_model,\n",
        "                  data=data,\n",
        "                  algo=tpe.suggest,\n",
        "                  max_evals=5,\n",
        "                  notebook_name='DL_HW5_base',\n",
        "                  trials=Trials())"
      ],
      "metadata": {
        "colab": {
          "base_uri": "https://localhost:8080/"
        },
        "id": "2chzDdNi9aex",
        "outputId": "63cf039c-87ff-4d9d-e2c3-88af9d1cbad6"
      },
      "execution_count": 54,
      "outputs": [
        {
          "output_type": "stream",
          "name": "stdout",
          "text": [
            ">>> Imports:\n",
            "#coding=utf-8\n",
            "\n",
            ">>> Hyperas search space:\n",
            "\n",
            "def get_space():\n",
            "    return {\n",
            "        'n_layer1': hp.choice('n_layer1', [128, 256, 512]),\n",
            "        'dropout': hp.uniform('dropout', 0, 0.5),\n",
            "        'n_layer1_1': hp.choice('n_layer1_1', [128, 256, 512]),\n",
            "        'act': hp.choice('act', ['relu', 'leakyrelu', 'swish']),\n",
            "        'optim': hp.choice('optim', ['rmsprop', 'adam', 'sgd']),\n",
            "        'n_batch': hp.choice('n_batch', [64, 128, 256]),\n",
            "    }\n",
            "\n",
            ">>> Data\n",
            "   1: \n",
            "   2: \n",
            "   3: import keras\n",
            "   4: from keras.models import Sequential\n",
            "   5: from keras.layers import InputLayer, Dense, Dropout, Activation\n",
            "   6: from tensorflow.keras import Input\n",
            "   7: from keras.callbacks import EarlyStopping\n",
            "   8: import numpy as np\n",
            "   9: from PIL import Image\n",
            "  10: import pickle\n",
            "  11: from keras.layers import Layer\n",
            "  12: from keras import backend as K\n",
            "  13: \n",
            "  14: path = 'cifar-10-batches-py/data_batch_'\n",
            "  15: batches = []\n",
            "  16: for i in range(5):\n",
            "  17:     with open(path + str(i+1), 'rb') as f:\n",
            "  18:         batches.append(pickle.load(f, encoding='bytes'))\n",
            "  19: \n",
            "  20: pictures = batches[0][b'data']\n",
            "  21: labels = batches[0][b'labels']\n",
            "  22: for b in batches[1:]:\n",
            "  23:     pictures = np.append(pictures,b[b'data'], axis=0)\n",
            "  24:     labels = np.append(labels,b[b'labels'], axis=0)\n",
            "  25: \n",
            "  26: with open('cifar-10-batches-py/test_batch', 'rb') as f:\n",
            "  27:     test_batch = pickle.load(f, encoding='bytes')\n",
            "  28: test_pictures = test_batch[b'data']\n",
            "  29: test_labels = test_batch[b'labels']\n",
            "  30: \n",
            "  31: batch_size = 32\n",
            "  32: num_classes = 10\n",
            "  33: epochs = 100\n",
            "  34: \n",
            "  35: labels = keras.utils.to_categorical(labels, num_classes)\n",
            "  36: test_labels = keras.utils.to_categorical(test_labels, num_classes)\n",
            "  37: \n",
            "  38: pictures = pictures.astype('float32')\n",
            "  39: test_pictures = test_pictures.astype('float32')\n",
            "  40: pictures /= 255\n",
            "  41: test_pictures /= 255\n",
            "  42: \n",
            "  43: print(pictures.shape, len(labels), test_pictures.shape, len(test_labels))\n",
            "  44: \n",
            "  45: \n",
            "  46: \n",
            "  47: \n",
            ">>> Resulting replaced keras model:\n",
            "\n",
            "   1: def keras_fmin_fnct(space):\n",
            "   2: \n",
            "   3:     \n",
            "   4:     \n",
            "   5:     # Definition of Swish\n",
            "   6:     class Swish(Layer):\n",
            "   7:         def __init__(self, beta, **kwargs):\n",
            "   8:             super(Swish, self).__init__(**kwargs)\n",
            "   9:             self.beta = K.cast_to_floatx(beta)\n",
            "  10: \n",
            "  11:         def call(self, inputs):\n",
            "  12:             return K.sigmoid(self.beta * inputs) * inputs\n",
            "  13: \n",
            "  14:         def get_config(self):\n",
            "  15:             config = {'beta': float(self.beta)}\n",
            "  16:             base_config = super(Swish, self).get_config()\n",
            "  17:             return dict(list(base_config.items()) + list(config.items()))\n",
            "  18: \n",
            "  19:         def compute_output_shape(self, input_shape):\n",
            "  20:             return input_shape\n",
            "  21:     \n",
            "  22:     n_layer1 = space['n_layer1']\n",
            "  23:     dropout = space['dropout']\n",
            "  24:     n_layer2 = space['n_layer1_1']\n",
            "  25:     \n",
            "  26:     act = space['act']\n",
            "  27:     optim = space['optim']\n",
            "  28:     n_batch = space['n_batch']\n",
            "  29:     \n",
            "  30:     print('Model parameters: ', n_layer1, dropout, n_layer2, act, optim, n_batch)\n",
            "  31:     \n",
            "  32:     # activation: string -> variable\n",
            "  33:     if act == 'relu':\n",
            "  34:         activation = keras.layers.ReLU()\n",
            "  35:     elif act == 'leakyrelu':\n",
            "  36:         activation = keras.layers.LeakyReLU()\n",
            "  37:     elif act == 'swish':\n",
            "  38:         activation = Swish(beta=0.3)\n",
            "  39:     \n",
            "  40:     model = Sequential()\n",
            "  41:     model.add(Dense(n_layer1, input_dim=3072))\n",
            "  42:     model.add(Dropout(dropout))\n",
            "  43:     model.add(Dense(n_layer2))\n",
            "  44:     model.add(Dense(10, activation='softmax'))\n",
            "  45:     \n",
            "  46:     model.compile(optimizer=optim,\n",
            "  47:                   loss='categorical_crossentropy',\n",
            "  48:                   metrics=['accuracy'])\n",
            "  49: \n",
            "  50:     callbacks = [EarlyStopping(monitor='val_accuracy', patience=3, verbose=0)]\n",
            "  51:     \n",
            "  52:     result = model.fit(pictures, labels,\n",
            "  53:               batch_size=n_batch,\n",
            "  54:               epochs=100,\n",
            "  55:               verbose=2,\n",
            "  56:               validation_data=(test_pictures, test_labels),\n",
            "  57:               callbacks=callbacks,\n",
            "  58:               shuffle=True)\n",
            "  59: \n",
            "  60:     \n",
            "  61:     # Save the epoch that gives the highest accuracy\n",
            "  62:     best_val_acc = np.amax(result.history['val_accuracy']) \n",
            "  63:     print('best val_acc:', best_val_acc)\n",
            "  64:     \n",
            "  65:     # logs: network structure and results\n",
            "  66:     with open('hw5_hyperas-cifar10-log.csv', 'a') as csv_file:\n",
            "  67:         csv_file.write(str(n_layer1) + ';')\n",
            "  68:         csv_file.write(str(dropout) + ';')\n",
            "  69:         csv_file.write(str(n_layer2) + ';')\n",
            "  70:         csv_file.write(str(act) + ';')\n",
            "  71:         csv_file.write(str(optim) + ';')\n",
            "  72:         csv_file.write(str(n_batch) + ';')\n",
            "  73:         csv_file.write(str(best_val_acc) + '\\n')\n",
            "  74:     \n",
            "  75:     return {'loss': -best_val_acc, 'status': STATUS_OK, 'model': model}\n",
            "  76: \n",
            "(50000, 3072) 50000 (10000, 3072) 10000\n",
            "Model parameters: \n",
            "128\n",
            "0.3685849187307607\n",
            "256\n",
            "leakyrelu\n",
            "sgd\n",
            "256\n",
            "Epoch 1/100\n",
            "\n",
            "196/196 - 3s - loss: 2.0675 - accuracy: 0.2483 - val_loss: 2.0274 - val_accuracy: 0.2525 - 3s/epoch - 18ms/step\n",
            "\n",
            "Epoch 2/100\n",
            "\n",
            "196/196 - 3s - loss: 1.9255 - accuracy: 0.3152 - val_loss: 1.9029 - val_accuracy: 0.3248 - 3s/epoch - 15ms/step\n",
            "\n",
            "Epoch 3/100\n",
            "\n",
            "196/196 - 3s - loss: 1.8817 - accuracy: 0.3339 - val_loss: 1.8619 - val_accuracy: 0.3442 - 3s/epoch - 15ms/step\n",
            "\n",
            "Epoch 4/100\n",
            "\n",
            "196/196 - 3s - loss: 1.8542 - accuracy: 0.3478 - val_loss: 1.8395 - val_accuracy: 0.3579 - 3s/epoch - 14ms/step\n",
            "\n",
            "Epoch 5/100\n",
            "\n",
            "196/196 - 3s - loss: 1.8375 - accuracy: 0.3556 - val_loss: 1.7967 - val_accuracy: 0.3764 - 3s/epoch - 15ms/step\n",
            "\n",
            "Epoch 6/100\n",
            "\n",
            "196/196 - 3s - loss: 1.8224 - accuracy: 0.3617 - val_loss: 1.8565 - val_accuracy: 0.3508 - 3s/epoch - 15ms/step\n",
            "\n",
            "Epoch 7/100\n",
            "\n",
            "196/196 - 3s - loss: 1.8140 - accuracy: 0.3695 - val_loss: 1.8022 - val_accuracy: 0.3711 - 3s/epoch - 15ms/step\n",
            "\n",
            "Epoch 8/100\n",
            "\n",
            "196/196 - 3s - loss: 1.8052 - accuracy: 0.3699 - val_loss: 1.7808 - val_accuracy: 0.3852 - 3s/epoch - 15ms/step\n",
            "\n",
            "Epoch 9/100\n",
            "\n",
            "196/196 - 3s - loss: 1.7973 - accuracy: 0.3737 - val_loss: 1.7782 - val_accuracy: 0.3807 - 3s/epoch - 14ms/step\n",
            "\n",
            "Epoch 10/100\n",
            "\n",
            "196/196 - 3s - loss: 1.7907 - accuracy: 0.3758 - val_loss: 1.7864 - val_accuracy: 0.3762 - 3s/epoch - 14ms/step\n",
            "\n",
            "Epoch 11/100\n",
            "\n",
            "196/196 - 3s - loss: 1.7857 - accuracy: 0.3790 - val_loss: 1.7517 - val_accuracy: 0.3926 - 3s/epoch - 15ms/step\n",
            "\n",
            "Epoch 12/100\n",
            "\n",
            "196/196 - 3s - loss: 1.7804 - accuracy: 0.3823 - val_loss: 1.7729 - val_accuracy: 0.3757 - 3s/epoch - 15ms/step\n",
            "\n",
            "Epoch 13/100\n",
            "\n",
            "196/196 - 3s - loss: 1.7752 - accuracy: 0.3829 - val_loss: 1.7647 - val_accuracy: 0.3841 - 3s/epoch - 15ms/step\n",
            "\n",
            "Epoch 14/100\n",
            "\n",
            "196/196 - 3s - loss: 1.7700 - accuracy: 0.3864 - val_loss: 1.7592 - val_accuracy: 0.3827 - 3s/epoch - 15ms/step\n",
            "\n",
            "best val_acc:\n",
            "0.39259999990463257\n",
            "Model parameters: \n",
            "256\n",
            "0.41833334235579095\n",
            "512\n",
            "swish\n",
            "rmsprop\n",
            "64\n",
            "Epoch 1/100\n",
            "\n",
            "782/782 - 11s - loss: 3.5135 - accuracy: 0.1775 - val_loss: 2.8860 - val_accuracy: 0.1724 - 11s/epoch - 15ms/step\n",
            "\n",
            "Epoch 2/100\n",
            "\n",
            "782/782 - 10s - loss: 2.2914 - accuracy: 0.2323 - val_loss: 3.2631 - val_accuracy: 0.1732 - 10s/epoch - 13ms/step\n",
            "\n",
            "Epoch 3/100\n",
            "\n",
            "782/782 - 11s - loss: 2.0412 - accuracy: 0.2734 - val_loss: 2.0278 - val_accuracy: 0.3057 - 11s/epoch - 14ms/step\n",
            "\n",
            "Epoch 4/100\n",
            "\n",
            "782/782 - 11s - loss: 1.9724 - accuracy: 0.2963 - val_loss: 2.1482 - val_accuracy: 0.2582 - 11s/epoch - 14ms/step\n",
            "\n",
            "Epoch 5/100\n",
            "\n",
            "782/782 - 11s - loss: 1.9307 - accuracy: 0.3124 - val_loss: 2.2651 - val_accuracy: 0.2018 - 11s/epoch - 14ms/step\n",
            "\n",
            "Epoch 6/100\n",
            "\n",
            "782/782 - 11s - loss: 1.9040 - accuracy: 0.3266 - val_loss: 2.2915 - val_accuracy: 0.2216 - 11s/epoch - 14ms/step\n",
            "\n",
            "best val_acc:\n",
            "0.30570000410079956\n",
            "Model parameters: \n",
            "512\n",
            "0.48790925917284717\n",
            "512\n",
            "swish\n",
            "adam\n",
            "64\n",
            "Epoch 1/100\n",
            "\n",
            "782/782 - 14s - loss: 2.4453 - accuracy: 0.2606 - val_loss: 2.1054 - val_accuracy: 0.2587 - 14s/epoch - 18ms/step\n",
            "\n",
            "Epoch 2/100\n",
            "\n",
            "782/782 - 14s - loss: 2.0663 - accuracy: 0.2907 - val_loss: 1.8679 - val_accuracy: 0.3340 - 14s/epoch - 18ms/step\n",
            "\n",
            "Epoch 3/100\n",
            "\n",
            "782/782 - 14s - loss: 1.9340 - accuracy: 0.3192 - val_loss: 1.9117 - val_accuracy: 0.3178 - 14s/epoch - 18ms/step\n",
            "\n",
            "Epoch 4/100\n",
            "\n",
            "782/782 - 14s - loss: 1.9079 - accuracy: 0.3268 - val_loss: 1.9528 - val_accuracy: 0.3224 - 14s/epoch - 18ms/step\n",
            "\n",
            "Epoch 5/100\n",
            "\n",
            "782/782 - 14s - loss: 1.9126 - accuracy: 0.3249 - val_loss: 1.8734 - val_accuracy: 0.3541 - 14s/epoch - 18ms/step\n",
            "\n",
            "Epoch 6/100\n",
            "\n",
            "782/782 - 14s - loss: 1.9119 - accuracy: 0.3249 - val_loss: 2.1911 - val_accuracy: 0.2317 - 14s/epoch - 18ms/step\n",
            "\n",
            "Epoch 7/100\n",
            "\n",
            "782/782 - 14s - loss: 1.9038 - accuracy: 0.3289 - val_loss: 1.8190 - val_accuracy: 0.3604 - 14s/epoch - 18ms/step\n",
            "\n",
            "Epoch 8/100\n",
            "\n",
            "782/782 - 14s - loss: 1.8946 - accuracy: 0.3317 - val_loss: 1.9163 - val_accuracy: 0.3205 - 14s/epoch - 18ms/step\n",
            "\n",
            "Epoch 9/100\n",
            "\n",
            "782/782 - 14s - loss: 1.8736 - accuracy: 0.3397 - val_loss: 1.8298 - val_accuracy: 0.3605 - 14s/epoch - 18ms/step\n",
            "\n",
            "Epoch 10/100\n",
            "\n",
            "782/782 - 14s - loss: 1.8739 - accuracy: 0.3415 - val_loss: 1.7906 - val_accuracy: 0.3688 - 14s/epoch - 18ms/step\n",
            "\n",
            "Epoch 11/100\n",
            "\n",
            "782/782 - 14s - loss: 1.8639 - accuracy: 0.3457 - val_loss: 1.8848 - val_accuracy: 0.3503 - 14s/epoch - 18ms/step\n",
            "\n",
            "Epoch 12/100\n",
            "\n",
            "782/782 - 14s - loss: 1.8574 - accuracy: 0.3467 - val_loss: 1.8841 - val_accuracy: 0.3326 - 14s/epoch - 18ms/step\n",
            "\n",
            "Epoch 13/100\n",
            "\n",
            "782/782 - 14s - loss: 1.8533 - accuracy: 0.3506 - val_loss: 1.8057 - val_accuracy: 0.3545 - 14s/epoch - 18ms/step\n",
            "\n",
            "best val_acc:\n",
            "0.36880001425743103\n",
            "Model parameters: \n",
            "256\n",
            "0.42221220495036493\n",
            "256\n",
            "relu\n",
            "adam\n",
            "128\n",
            "Epoch 1/100\n",
            "\n",
            "391/391 - 7s - loss: 2.1653 - accuracy: 0.2893 - val_loss: 1.8892 - val_accuracy: 0.3291 - 7s/epoch - 18ms/step\n",
            "\n",
            "Epoch 2/100\n",
            "\n",
            "391/391 - 5s - loss: 1.9093 - accuracy: 0.3249 - val_loss: 1.8871 - val_accuracy: 0.3215 - 5s/epoch - 14ms/step\n",
            "\n",
            "Epoch 3/100\n",
            "\n",
            "391/391 - 5s - loss: 1.8946 - accuracy: 0.3328 - val_loss: 1.8503 - val_accuracy: 0.3509 - 5s/epoch - 14ms/step\n",
            "\n",
            "Epoch 4/100\n",
            "\n",
            "391/391 - 5s - loss: 1.8740 - accuracy: 0.3400 - val_loss: 1.8218 - val_accuracy: 0.3533 - 5s/epoch - 14ms/step\n",
            "\n",
            "Epoch 5/100\n",
            "\n",
            "391/391 - 5s - loss: 1.8573 - accuracy: 0.3451 - val_loss: 1.8022 - val_accuracy: 0.3629 - 5s/epoch - 14ms/step\n",
            "\n",
            "Epoch 6/100\n",
            "\n",
            "391/391 - 6s - loss: 1.8414 - accuracy: 0.3515 - val_loss: 1.8330 - val_accuracy: 0.3614 - 6s/epoch - 14ms/step\n",
            "\n",
            "Epoch 7/100\n",
            "\n",
            "391/391 - 5s - loss: 1.8233 - accuracy: 0.3604 - val_loss: 1.8099 - val_accuracy: 0.3598 - 5s/epoch - 14ms/step\n",
            "\n",
            "Epoch 8/100\n",
            "\n",
            "391/391 - 6s - loss: 1.8116 - accuracy: 0.3629 - val_loss: 1.8193 - val_accuracy: 0.3549 - 6s/epoch - 15ms/step\n",
            "\n",
            "best val_acc:\n",
            "0.3628999888896942\n",
            "Model parameters: \n",
            "512\n",
            "0.06874772122693129\n",
            "512\n",
            "swish\n",
            "rmsprop\n",
            "128\n",
            "Epoch 1/100\n",
            "\n",
            "391/391 - 14s - loss: 7.5377 - accuracy: 0.1549 - val_loss: 2.9671 - val_accuracy: 0.1580 - 14s/epoch - 35ms/step\n",
            "\n",
            "Epoch 2/100\n",
            "\n",
            "391/391 - 13s - loss: 4.0491 - accuracy: 0.2079 - val_loss: 2.3643 - val_accuracy: 0.2118 - 13s/epoch - 34ms/step\n",
            "\n",
            "Epoch 3/100\n",
            "\n",
            "391/391 - 13s - loss: 2.8522 - accuracy: 0.2342 - val_loss: 2.4094 - val_accuracy: 0.2262 - 13s/epoch - 34ms/step\n",
            "\n",
            "Epoch 4/100\n",
            "\n",
            "391/391 - 13s - loss: 2.1992 - accuracy: 0.2649 - val_loss: 2.6030 - val_accuracy: 0.1741 - 13s/epoch - 34ms/step\n",
            "\n",
            "Epoch 5/100\n",
            "\n",
            "391/391 - 13s - loss: 2.0536 - accuracy: 0.2828 - val_loss: 1.9626 - val_accuracy: 0.2951 - 13s/epoch - 33ms/step\n",
            "\n",
            "Epoch 6/100\n",
            "\n",
            "391/391 - 13s - loss: 1.9925 - accuracy: 0.3008 - val_loss: 2.0344 - val_accuracy: 0.2772 - 13s/epoch - 33ms/step\n",
            "\n",
            "Epoch 7/100\n",
            "\n",
            "391/391 - 13s - loss: 1.9550 - accuracy: 0.3152 - val_loss: 2.3293 - val_accuracy: 0.2455 - 13s/epoch - 33ms/step\n",
            "\n",
            "Epoch 8/100\n",
            "\n",
            "391/391 - 13s - loss: 1.9295 - accuracy: 0.3237 - val_loss: 1.8249 - val_accuracy: 0.3530 - 13s/epoch - 33ms/step\n",
            "\n",
            "Epoch 9/100\n",
            "\n",
            "391/391 - 13s - loss: 1.9180 - accuracy: 0.3291 - val_loss: 1.8763 - val_accuracy: 0.3423 - 13s/epoch - 33ms/step\n",
            "\n",
            "Epoch 10/100\n",
            "\n",
            "391/391 - 14s - loss: 1.8893 - accuracy: 0.3363 - val_loss: 1.9610 - val_accuracy: 0.3155 - 14s/epoch - 36ms/step\n",
            "\n",
            "Epoch 11/100\n",
            "\n",
            "391/391 - 13s - loss: 1.8886 - accuracy: 0.3396 - val_loss: 1.9000 - val_accuracy: 0.3127 - 13s/epoch - 33ms/step\n",
            "\n",
            "best val_acc:\n",
            "0.3529999852180481\n",
            "100%|██████████| 5/5 [09:14<00:00, 110.86s/it, best loss: -0.39259999990463257]\n"
          ]
        }
      ]
    },
    {
      "cell_type": "markdown",
      "source": [
        "**Evaluating Hyperopt**"
      ],
      "metadata": {
        "id": "gGG1x-zSJhZ6"
      }
    },
    {
      "cell_type": "code",
      "source": [
        "x_train, y_train, x_test, y_test = data()\n",
        "print(\"Evaluation of the best model:\")\n",
        "print(best_model.evaluate(x_test, y_test))\n",
        "print(\"Best hyper parameters:\")\n",
        "print(best_run)"
      ],
      "metadata": {
        "colab": {
          "base_uri": "https://localhost:8080/"
        },
        "id": "bWyfN4V-9t_d",
        "outputId": "240091ba-8dae-4841-97fc-faf2db2df3e1"
      },
      "execution_count": 55,
      "outputs": [
        {
          "output_type": "stream",
          "name": "stdout",
          "text": [
            "(50000, 3072) 50000 (10000, 3072) 10000\n",
            "Evaluation of the best model:\n",
            "313/313 [==============================] - 1s 3ms/step - loss: 1.7592 - accuracy: 0.3827\n",
            "[1.7592127323150635, 0.38269999623298645]\n",
            "Best hyper parameters:\n",
            "{'act': 1, 'dropout': 0.3685849187307607, 'n_batch': 2, 'n_layer1': 0, 'n_layer1_1': 1, 'optim': 2}\n"
          ]
        }
      ]
    },
    {
      "cell_type": "code",
      "source": [
        "import pandas\n",
        "df = pandas.read_csv('hw5_hyperas-cifar10-log.csv', delimiter=';')\n",
        "df.sort_values(by=['best_val_acc'], ascending=False)"
      ],
      "metadata": {
        "colab": {
          "base_uri": "https://localhost:8080/",
          "height": 206
        },
        "id": "wWNrMgD-Jj8a",
        "outputId": "4d172f6f-d570-4a35-b832-24b80e237004"
      },
      "execution_count": 56,
      "outputs": [
        {
          "output_type": "execute_result",
          "data": {
            "text/plain": [
              "   n_layer1   dropout  n_layer2        act    optim  n_batch  best_val_acc\n",
              "0       128  0.368585       256  leakyrelu      sgd      256        0.3926\n",
              "2       512  0.487909       512      swish     adam       64        0.3688\n",
              "3       256  0.422212       256       relu     adam      128        0.3629\n",
              "4       512  0.068748       512      swish  rmsprop      128        0.3530\n",
              "1       256  0.418333       512      swish  rmsprop       64        0.3057"
            ],
            "text/html": [
              "\n",
              "  <div id=\"df-3a2e225d-128d-4025-8aa1-f24267165de3\">\n",
              "    <div class=\"colab-df-container\">\n",
              "      <div>\n",
              "<style scoped>\n",
              "    .dataframe tbody tr th:only-of-type {\n",
              "        vertical-align: middle;\n",
              "    }\n",
              "\n",
              "    .dataframe tbody tr th {\n",
              "        vertical-align: top;\n",
              "    }\n",
              "\n",
              "    .dataframe thead th {\n",
              "        text-align: right;\n",
              "    }\n",
              "</style>\n",
              "<table border=\"1\" class=\"dataframe\">\n",
              "  <thead>\n",
              "    <tr style=\"text-align: right;\">\n",
              "      <th></th>\n",
              "      <th>n_layer1</th>\n",
              "      <th>dropout</th>\n",
              "      <th>n_layer2</th>\n",
              "      <th>act</th>\n",
              "      <th>optim</th>\n",
              "      <th>n_batch</th>\n",
              "      <th>best_val_acc</th>\n",
              "    </tr>\n",
              "  </thead>\n",
              "  <tbody>\n",
              "    <tr>\n",
              "      <th>0</th>\n",
              "      <td>128</td>\n",
              "      <td>0.368585</td>\n",
              "      <td>256</td>\n",
              "      <td>leakyrelu</td>\n",
              "      <td>sgd</td>\n",
              "      <td>256</td>\n",
              "      <td>0.3926</td>\n",
              "    </tr>\n",
              "    <tr>\n",
              "      <th>2</th>\n",
              "      <td>512</td>\n",
              "      <td>0.487909</td>\n",
              "      <td>512</td>\n",
              "      <td>swish</td>\n",
              "      <td>adam</td>\n",
              "      <td>64</td>\n",
              "      <td>0.3688</td>\n",
              "    </tr>\n",
              "    <tr>\n",
              "      <th>3</th>\n",
              "      <td>256</td>\n",
              "      <td>0.422212</td>\n",
              "      <td>256</td>\n",
              "      <td>relu</td>\n",
              "      <td>adam</td>\n",
              "      <td>128</td>\n",
              "      <td>0.3629</td>\n",
              "    </tr>\n",
              "    <tr>\n",
              "      <th>4</th>\n",
              "      <td>512</td>\n",
              "      <td>0.068748</td>\n",
              "      <td>512</td>\n",
              "      <td>swish</td>\n",
              "      <td>rmsprop</td>\n",
              "      <td>128</td>\n",
              "      <td>0.3530</td>\n",
              "    </tr>\n",
              "    <tr>\n",
              "      <th>1</th>\n",
              "      <td>256</td>\n",
              "      <td>0.418333</td>\n",
              "      <td>512</td>\n",
              "      <td>swish</td>\n",
              "      <td>rmsprop</td>\n",
              "      <td>64</td>\n",
              "      <td>0.3057</td>\n",
              "    </tr>\n",
              "  </tbody>\n",
              "</table>\n",
              "</div>\n",
              "      <button class=\"colab-df-convert\" onclick=\"convertToInteractive('df-3a2e225d-128d-4025-8aa1-f24267165de3')\"\n",
              "              title=\"Convert this dataframe to an interactive table.\"\n",
              "              style=\"display:none;\">\n",
              "        \n",
              "  <svg xmlns=\"http://www.w3.org/2000/svg\" height=\"24px\"viewBox=\"0 0 24 24\"\n",
              "       width=\"24px\">\n",
              "    <path d=\"M0 0h24v24H0V0z\" fill=\"none\"/>\n",
              "    <path d=\"M18.56 5.44l.94 2.06.94-2.06 2.06-.94-2.06-.94-.94-2.06-.94 2.06-2.06.94zm-11 1L8.5 8.5l.94-2.06 2.06-.94-2.06-.94L8.5 2.5l-.94 2.06-2.06.94zm10 10l.94 2.06.94-2.06 2.06-.94-2.06-.94-.94-2.06-.94 2.06-2.06.94z\"/><path d=\"M17.41 7.96l-1.37-1.37c-.4-.4-.92-.59-1.43-.59-.52 0-1.04.2-1.43.59L10.3 9.45l-7.72 7.72c-.78.78-.78 2.05 0 2.83L4 21.41c.39.39.9.59 1.41.59.51 0 1.02-.2 1.41-.59l7.78-7.78 2.81-2.81c.8-.78.8-2.07 0-2.86zM5.41 20L4 18.59l7.72-7.72 1.47 1.35L5.41 20z\"/>\n",
              "  </svg>\n",
              "      </button>\n",
              "      \n",
              "  <style>\n",
              "    .colab-df-container {\n",
              "      display:flex;\n",
              "      flex-wrap:wrap;\n",
              "      gap: 12px;\n",
              "    }\n",
              "\n",
              "    .colab-df-convert {\n",
              "      background-color: #E8F0FE;\n",
              "      border: none;\n",
              "      border-radius: 50%;\n",
              "      cursor: pointer;\n",
              "      display: none;\n",
              "      fill: #1967D2;\n",
              "      height: 32px;\n",
              "      padding: 0 0 0 0;\n",
              "      width: 32px;\n",
              "    }\n",
              "\n",
              "    .colab-df-convert:hover {\n",
              "      background-color: #E2EBFA;\n",
              "      box-shadow: 0px 1px 2px rgba(60, 64, 67, 0.3), 0px 1px 3px 1px rgba(60, 64, 67, 0.15);\n",
              "      fill: #174EA6;\n",
              "    }\n",
              "\n",
              "    [theme=dark] .colab-df-convert {\n",
              "      background-color: #3B4455;\n",
              "      fill: #D2E3FC;\n",
              "    }\n",
              "\n",
              "    [theme=dark] .colab-df-convert:hover {\n",
              "      background-color: #434B5C;\n",
              "      box-shadow: 0px 1px 3px 1px rgba(0, 0, 0, 0.15);\n",
              "      filter: drop-shadow(0px 1px 2px rgba(0, 0, 0, 0.3));\n",
              "      fill: #FFFFFF;\n",
              "    }\n",
              "  </style>\n",
              "\n",
              "      <script>\n",
              "        const buttonEl =\n",
              "          document.querySelector('#df-3a2e225d-128d-4025-8aa1-f24267165de3 button.colab-df-convert');\n",
              "        buttonEl.style.display =\n",
              "          google.colab.kernel.accessAllowed ? 'block' : 'none';\n",
              "\n",
              "        async function convertToInteractive(key) {\n",
              "          const element = document.querySelector('#df-3a2e225d-128d-4025-8aa1-f24267165de3');\n",
              "          const dataTable =\n",
              "            await google.colab.kernel.invokeFunction('convertToInteractive',\n",
              "                                                     [key], {});\n",
              "          if (!dataTable) return;\n",
              "\n",
              "          const docLinkHtml = 'Like what you see? Visit the ' +\n",
              "            '<a target=\"_blank\" href=https://colab.research.google.com/notebooks/data_table.ipynb>data table notebook</a>'\n",
              "            + ' to learn more about interactive tables.';\n",
              "          element.innerHTML = '';\n",
              "          dataTable['output_type'] = 'display_data';\n",
              "          await google.colab.output.renderOutput(dataTable, element);\n",
              "          const docLink = document.createElement('div');\n",
              "          docLink.innerHTML = docLinkHtml;\n",
              "          element.appendChild(docLink);\n",
              "        }\n",
              "      </script>\n",
              "    </div>\n",
              "  </div>\n",
              "  "
            ]
          },
          "metadata": {},
          "execution_count": 56
        }
      ]
    },
    {
      "cell_type": "markdown",
      "source": [
        "The best parameters were:\n",
        "<li> 128 nodes in the first layer\n",
        "<li> 0.368585 Dropout between the 2 layers\n",
        "<li> 256 nodes in the second layer\n",
        "<li> leakyrelu activation\n",
        "<li> SGD optimizer\n",
        "<li> batch size of 256\n",
        "\n",
        "<p> With these parameters, we've increased the validation accuracy to 39.26%\n",
        "<p>Clearly, this isn't a great increase, and our base model was way too simple for image recognition, however, the point was to use the hyperopt methods, not necesseraly to give a great accuracy."
      ],
      "metadata": {
        "id": "AxCRK016Js1v"
      }
    },
    {
      "cell_type": "code",
      "source": [],
      "metadata": {
        "id": "3YE7qisiJod_"
      },
      "execution_count": null,
      "outputs": []
    }
  ]
}